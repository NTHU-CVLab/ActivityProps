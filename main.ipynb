{
 "cells": [
  {
   "cell_type": "code",
   "execution_count": 3,
   "metadata": {
    "collapsed": false
   },
   "outputs": [
    {
     "name": "stdout",
     "output_type": "stream",
     "text": [
      "env: KERAS_BACKEND=theano\n"
     ]
    }
   ],
   "source": [
    "%env KERAS_BACKEND=theano\n",
    "from preprocess import MSRII\n",
    "from preprocess.c3d import C3DFeatureNet\n",
    "from preprocess.video import Video\n",
    "from network.model import FC4Net"
   ]
  },
  {
   "cell_type": "code",
   "execution_count": 5,
   "metadata": {
    "collapsed": false
   },
   "outputs": [
    {
     "name": "stdout",
     "output_type": "stream",
     "text": [
      "C3D-Network is ready.\n"
     ]
    }
   ],
   "source": [
    "video = Video('/data-disk/MSRII/videos/1.avi')\n",
    "\n",
    "c3dnet = C3DFeatureNet(feature_file=None)\n",
    "c3dnet.load()\n",
    "y = c3dnet.extract_feature(video)\n",
    "\n",
    "fc4net = FC4Net()\n",
    "fc4net.load_weights('network/FC4Net_weights.h5')\n",
    "pred = fc4net.predict(y, batch_size=32)"
   ]
  },
  {
   "cell_type": "code",
   "execution_count": 6,
   "metadata": {
    "collapsed": false
   },
   "outputs": [],
   "source": [
    "dataset = MSRII.Dataset('/data-disk/MSRII/')"
   ]
  },
  {
   "cell_type": "code",
   "execution_count": 9,
   "metadata": {
    "collapsed": false
   },
   "outputs": [
    {
     "name": "stdout",
     "output_type": "stream",
     "text": [
      "tIOU: 0.635379061372\n"
     ]
    }
   ],
   "source": [
    "import numpy as np\n",
    "\n",
    "seg_metas = dataset.video_metas[0].seg_metas\n",
    "target = np.zeros(len(video.frames))\n",
    "for seg_meta in seg_metas:\n",
    "    s = seg_meta['start']\n",
    "    t = seg_meta['duration']\n",
    "    target[s:s + t] = 1\n",
    "\n",
    "predict = np.zeros(len(video.frames))\n",
    "p = pred.reshape(len(pred))\n",
    "for t in np.nditer(np.where(p == 1)):\n",
    "    predict[t * 16:(t + 1) * 16] = 1\n",
    "\n",
    "交集 = np.logical_and(target == 1, predict == 1)\n",
    "聯集 = np.logical_or(target == 1, predict == 1)\n",
    "\n",
    "print('tIOU:', sum(交集 == 1) / sum(聯集 == 1))"
   ]
  }
 ],
 "metadata": {
  "anaconda-cloud": {},
  "kernelspec": {
   "display_name": "Python [conda root]",
   "language": "python",
   "name": "conda-root-py"
  },
  "language_info": {
   "codemirror_mode": {
    "name": "ipython",
    "version": 3
   },
   "file_extension": ".py",
   "mimetype": "text/x-python",
   "name": "python",
   "nbconvert_exporter": "python",
   "pygments_lexer": "ipython3",
   "version": "3.5.2"
  }
 },
 "nbformat": 4,
 "nbformat_minor": 2
}
