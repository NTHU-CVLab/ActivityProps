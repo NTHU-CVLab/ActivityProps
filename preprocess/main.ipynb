{
 "cells": [
  {
   "cell_type": "code",
   "execution_count": 1,
   "metadata": {
    "collapsed": false
   },
   "outputs": [
    {
     "name": "stdout",
     "output_type": "stream",
     "text": [
      "env: KERAS_BACKEND=theano\n"
     ]
    },
    {
     "name": "stderr",
     "output_type": "stream",
     "text": [
      "Using Theano backend.\n"
     ]
    }
   ],
   "source": [
    "%env KERAS_BACKEND=theano\n",
    "import MSRII\n",
    "from c3d import C3DFeatureNet\n",
    "from video import Video"
   ]
  },
  {
   "cell_type": "code",
   "execution_count": 3,
   "metadata": {
    "collapsed": false
   },
   "outputs": [
    {
     "name": "stdout",
     "output_type": "stream",
     "text": [
      "C3D-Network is ready.\n"
     ]
    }
   ],
   "source": [
    "%reload_ext autoreload \n",
    "%autoreload 1\n",
    "%aimport c3d\n",
    "%aimport video\n",
    "\n",
    "c3dnet = C3DFeatureNet(feature_file=None)\n",
    "c3dnet.load()"
   ]
  },
  {
   "cell_type": "code",
   "execution_count": 7,
   "metadata": {
    "collapsed": false
   },
   "outputs": [],
   "source": [
    "video = Video('/data-disk/MSRII/videos/1.avi')\n",
    "\n",
    "y = c3dnet.extract_feature(video)"
   ]
  },
  {
   "cell_type": "code",
   "execution_count": 9,
   "metadata": {
    "collapsed": false
   },
   "outputs": [],
   "source": [
    "def FC4Net():\n",
    "    from keras.models import Sequential\n",
    "    from keras.layers.core import Dense, Dropout\n",
    "    model = Sequential()\n",
    "    model.add(Dense(128, input_dim=4096, init='uniform', activation='sigmoid'))\n",
    "    model.add(Dropout(0.35))\n",
    "    model.add(Dense(256, activation='relu'))\n",
    "    model.add(Dropout(0.45))\n",
    "    model.add(Dense(512, activation='relu'))\n",
    "    model.add(Dropout(0.55))\n",
    "    model.add(Dense(1, activation='sigmoid'))\n",
    "    model.compile(loss='binary_crossentropy',\n",
    "                optimizer='adam',\n",
    "                metrics=['accuracy'])\n",
    "    return model\n",
    "\n",
    "fc4net = FC4Net()\n",
    "fc4net.load_weights('../network/FC4Net_weights.h5')"
   ]
  },
  {
   "cell_type": "code",
   "execution_count": 14,
   "metadata": {
    "collapsed": false
   },
   "outputs": [],
   "source": [
    "pred = fc4net.predict(y, batch_size=32)\n",
    "dataset = MSRII.Dataset('/data-disk/MSRII/')"
   ]
  },
  {
   "cell_type": "code",
   "execution_count": 93,
   "metadata": {
    "collapsed": false
   },
   "outputs": [
    {
     "data": {
      "text/plain": [
       "0.63537906137184119"
      ]
     },
     "execution_count": 93,
     "metadata": {},
     "output_type": "execute_result"
    }
   ],
   "source": [
    "import numpy as np\n",
    "\n",
    "\n",
    "seg_metas = dataset.video_metas[0].seg_metas\n",
    "target = np.zeros(len(video.frames))\n",
    "for seg_meta in seg_metas:\n",
    "    s = seg_meta['start']\n",
    "    t = seg_meta['duration']\n",
    "    target[s:s + t] = 1\n",
    "\n",
    "predict = np.zeros(len(video.frames))\n",
    "p = pred.reshape(len(pred))\n",
    "for t in np.nditer(np.where(p == 1)):\n",
    "    predict[t * 16:(t + 1) * 16] = 1\n",
    "\n",
    "交集 = np.logical_and(target == 1, predict == 1)\n",
    "聯集 = np.logical_or(target == 1, predict == 1)\n",
    "\n",
    "sum(交集 == 1) / sum(聯集 == 1)"
   ]
  }
 ],
 "metadata": {
  "anaconda-cloud": {},
  "kernelspec": {
   "display_name": "Python [conda root]",
   "language": "python",
   "name": "conda-root-py"
  },
  "language_info": {
   "codemirror_mode": {
    "name": "ipython",
    "version": 3
   },
   "file_extension": ".py",
   "mimetype": "text/x-python",
   "name": "python",
   "nbconvert_exporter": "python",
   "pygments_lexer": "ipython3",
   "version": "3.5.2"
  }
 },
 "nbformat": 4,
 "nbformat_minor": 2
}
