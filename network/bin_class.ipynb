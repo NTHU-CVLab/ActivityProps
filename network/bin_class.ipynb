{
 "cells": [
  {
   "cell_type": "code",
   "execution_count": 1,
   "metadata": {
    "collapsed": false
   },
   "outputs": [],
   "source": [
    "import h5py\n",
    "import numpy as np\n",
    "from sklearn.model_selection import train_test_split\n",
    "\n",
    "feature_file = '../preprocess/MSRII-c3d-features.h5'\n",
    "\n",
    "with h5py.File(feature_file, 'r') as h5:\n",
    "    X = np.array(h5['features'])\n",
    "    Y = np.array(h5['labels']).reshape(X.shape[0])\n",
    "    Y[Y > 0] = 1\n",
    "\n",
    "X_train, X_test, y_train, y_test = train_test_split(X, Y, test_size=0.2)"
   ]
  },
  {
   "cell_type": "code",
   "execution_count": 2,
   "metadata": {
    "collapsed": false
   },
   "outputs": [
    {
     "name": "stdout",
     "output_type": "stream",
     "text": [
      "env: KERAS_BACKEND=theano\n"
     ]
    },
    {
     "name": "stderr",
     "output_type": "stream",
     "text": [
      "Using Theano backend.\n",
      "Using gpu device 1: GeForce GTX TITAN X (CNMeM is enabled with initial size: 95.0% of memory, cuDNN 5105)\n"
     ]
    }
   ],
   "source": [
    "%env KERAS_BACKEND=theano\n",
    "from keras.models import Sequential\n",
    "from keras.layers import Dense, Dropout\n",
    "\n",
    "import model as m\n",
    "\n",
    "\n",
    "def FC1Net():\n",
    "    model = Sequential()\n",
    "    model.add(Dense(1, input_dim=4096, activation='sigmoid'))\n",
    "    model.compile(optimizer='rmsprop',\n",
    "                  loss='binary_crossentropy',\n",
    "                  metrics=['accuracy'])\n",
    "    return model\n",
    "\n",
    "\n",
    "def FC4Net():\n",
    "    net = m.FC4Net()\n",
    "    net.compile_model()\n",
    "    return net.model\n",
    "\n",
    "model_creator = FC4Net\n",
    "model = model_creator()\n",
    "H = model.fit(\n",
    "    X_train, y_train,\n",
    "    nb_epoch=10, batch_size=32,\n",
    "    validation_data=(X_test, y_test), verbose=0)"
   ]
  },
  {
   "cell_type": "code",
   "execution_count": 3,
   "metadata": {
    "collapsed": false
   },
   "outputs": [
    {
     "name": "stdout",
     "output_type": "stream",
     "text": [
      "Results: 89.35% (1.47%)\n",
      "Results: 89.51% (2.51%) Feature normalized\n"
     ]
    }
   ],
   "source": [
    "from keras.wrappers.scikit_learn import KerasClassifier\n",
    "from sklearn.model_selection import StratifiedKFold, cross_val_score\n",
    "from sklearn.preprocessing import StandardScaler\n",
    "from sklearn.pipeline import Pipeline\n",
    "\n",
    "estimator = KerasClassifier(build_fn=model_creator, nb_epoch=10, batch_size=32, verbose=0)\n",
    "kfold = StratifiedKFold(n_splits=4, shuffle=True)\n",
    "results = cross_val_score(estimator, X_train, y_train, cv=kfold)\n",
    "\n",
    "print(\"Results: %.2f%% (%.2f%%)\" % (results.mean() * 100, results.std() * 100))\n",
    "\n",
    "estimators = []\n",
    "estimators.append(('standardize', StandardScaler()))\n",
    "estimators.append(('mlp', KerasClassifier(build_fn=model_creator, nb_epoch=10, batch_size=32, verbose=0)))\n",
    "pipeline = Pipeline(estimators)\n",
    "results = cross_val_score(estimator, X_train, y_train, cv=kfold)\n",
    "\n",
    "print(\"Results: %.2f%% (%.2f%%) Feature normalized\" % (results.mean() * 100, results.std() * 100))"
   ]
  },
  {
   "cell_type": "code",
   "execution_count": 4,
   "metadata": {
    "collapsed": false
   },
   "outputs": [
    {
     "name": "stdout",
     "output_type": "stream",
     "text": [
      "Results: 91.74%\n"
     ]
    }
   ],
   "source": [
    "loss, accuracy = model.evaluate(X_test, y_test, batch_size=32, verbose=0)\n",
    "print('Results: %.2f%%' % (accuracy * 100))"
   ]
  },
  {
   "cell_type": "code",
   "execution_count": 5,
   "metadata": {
    "collapsed": true
   },
   "outputs": [],
   "source": [
    "model.save_weights('FC4Net_weights.h5')"
   ]
  },
  {
   "cell_type": "code",
   "execution_count": 6,
   "metadata": {
    "collapsed": false
   },
   "outputs": [
    {
     "name": "stdout",
     "output_type": "stream",
     "text": [
      "SVM accuracy 92.80%\n",
      "RF accuracy 91.95%\n"
     ]
    }
   ],
   "source": [
    "from sklearn import svm\n",
    "from sklearn.ensemble import RandomForestClassifier\n",
    "\n",
    "clf = svm.SVC(kernel='rbf', C=1).fit(X_train, y_train)\n",
    "accuracy = clf.score(X_test, y_test)\n",
    "print('SVM accuracy %.2f%%' % (accuracy * 100))\n",
    "\n",
    "clf = RandomForestClassifier(n_estimators=100).fit(X_train, y_train)\n",
    "accuracy = clf.score(X_test, y_test)\n",
    "print('RF accuracy %.2f%%' % (accuracy * 100))"
   ]
  }
 ],
 "metadata": {
  "anaconda-cloud": {},
  "kernelspec": {
   "display_name": "Python [conda root]",
   "language": "python",
   "name": "conda-root-py"
  },
  "language_info": {
   "codemirror_mode": {
    "name": "ipython",
    "version": 3
   },
   "file_extension": ".py",
   "mimetype": "text/x-python",
   "name": "python",
   "nbconvert_exporter": "python",
   "pygments_lexer": "ipython3",
   "version": "3.5.2"
  }
 },
 "nbformat": 4,
 "nbformat_minor": 2
}
