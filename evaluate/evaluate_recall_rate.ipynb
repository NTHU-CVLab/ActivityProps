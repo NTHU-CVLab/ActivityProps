{
 "cells": [
  {
   "cell_type": "code",
   "execution_count": 1,
   "metadata": {
    "collapsed": true
   },
   "outputs": [],
   "source": [
    "import numpy as np\n",
    "import pickle"
   ]
  },
  {
   "cell_type": "code",
   "execution_count": 2,
   "metadata": {
    "collapsed": true
   },
   "outputs": [],
   "source": [
    "def segment_iou(target_segment, candidate_segments):\n",
    "    \"\"\"\n",
    "    Compute the temporal intersection over union between a\n",
    "    target segment and all the test segments.\n",
    "    Parameters\n",
    "    ----------\n",
    "    target_segment : 1d array\n",
    "        Temporal target segment containing [starting, ending] times.\n",
    "        \n",
    "    candidate_segments : 2d array\n",
    "        Temporal candidate segments containing N x [starting, ending] times.\n",
    "    \n",
    "    Outputs\n",
    "    -------\n",
    "    tiou : 1d array\n",
    "        Temporal intersection over union score of the N's candidate segments.\n",
    "    \"\"\"\n",
    "    tt1 = np.maximum(target_segment[0], candidate_segments[:, 0])\n",
    "    tt2 = np.minimum(target_segment[1], candidate_segments[:, 1])\n",
    "    # Intersection including Non-negative overlap score.\n",
    "    segments_intersection = (tt2 - tt1).clip(0)\n",
    "    # Segment union.\n",
    "    segments_union = (candidate_segments[:, 1] - candidate_segments[:, 0]) \\\n",
    "      + (target_segment[1] - target_segment[0]) - segments_intersection\n",
    "    # Compute overlap as the ratio of the intersection\n",
    "    # over union of two segments.\n",
    "    tIoU = segments_intersection.astype(float) / segments_union\n",
    "    return tIoU\n"
   ]
  },
  {
   "cell_type": "code",
   "execution_count": 3,
   "metadata": {
    "collapsed": true
   },
   "outputs": [],
   "source": [
    "def derive_recall_rate(ground_truth_segments, candidate_segments, tIoU_thresh):\n",
    "    \"\"\"\n",
    "    Compute the recall rate of the target video\n",
    "    Parameters\n",
    "    ----------\n",
    "    ground_truth_segments : 2d array\n",
    "        Temporal target segment containing M x [starting, ending] times.\n",
    "        \n",
    "    candidate_segments : 2d array\n",
    "        Temporal candidate segments containing N x [starting, ending] times.\n",
    "    \n",
    "    Outputs\n",
    "    -------\n",
    "    recall_rate\n",
    "    \"\"\"\n",
    "    ground_truth_num = ground_truth_segments.shape[0]\n",
    "    recalled_count = 0.0\n",
    "    for ground_truth_segment in ground_truth_segments:\n",
    "        tIoU = segment_iou(ground_truth_segment, candidate_segments)\n",
    "        sorted_tIoU = np.sort(tIoU)\n",
    "        highest_detection_score = sorted_tIoU[-1]\n",
    "        if highest_detection_score >= tIoU_thresh:\n",
    "            recalled_count += 1\n",
    "            \n",
    "    recall_rate = recalled_count / ground_truth_num\n",
    "    return recall_rate, recalled_count, ground_truth_num\n",
    "        "
   ]
  },
  {
   "cell_type": "code",
   "execution_count": 13,
   "metadata": {
    "collapsed": false
   },
   "outputs": [
    {
     "name": "stdout",
     "output_type": "stream",
     "text": [
      "0.5\n",
      "1.0\n",
      "2\n"
     ]
    }
   ],
   "source": [
    "candidate_segments = np.array([[2, 5], [16, 17]])\n",
    "ground_truth_segments = np.array([[1, 10], [15, 20]])\n",
    "\n",
    "tIoU_thresh = 0.3\n",
    "recall_rate, recalled_count, ground_truth_num = derive_recall_rate(ground_truth_segments, candidate_segments, tIoU_thresh)\n",
    "print(recall_rate)\n",
    "print(recalled_count)\n",
    "print(ground_truth_num)\n"
   ]
  },
  {
   "cell_type": "code",
   "execution_count": 18,
   "metadata": {
    "collapsed": false
   },
   "outputs": [
    {
     "name": "stdout",
     "output_type": "stream",
     "text": [
      "[ 0.          0.05263158  0.10526316  0.15789474  0.21052632  0.26315789\n",
      "  0.31578947  0.36842105  0.42105263  0.47368421  0.52631579  0.57894737\n",
      "  0.63157895  0.68421053  0.73684211  0.78947368  0.84210526  0.89473684\n",
      "  0.94736842  1.        ] [1.0, 0.6842105263157895, 0.42105263157894735, 0.21052631578947367, 0.05263157894736842, 0.05263157894736842, 0.05263157894736842, 0.05263157894736842, 0.05263157894736842, 0.05263157894736842, 0.05263157894736842, 0.0, 0.0, 0.0, 0.0, 0.0, 0.0, 0.0, 0.0, 0.0]\n"
     ]
    }
   ],
   "source": [
    "def read_predicted_proposal():\n",
    "    with open('../data/outputs/predicted_proposal.pkl', 'rb') as f:\n",
    "        results = pickle.load(f)\n",
    "        return results\n",
    "\n",
    "def derive_overall_recall_rate(tIoU_thresh, results, print_info=False):\n",
    "    if print_info: print('----------------------------------------------')\n",
    "    total_recalled_count = 0.0\n",
    "    total_ground_truth_num = 0.0\n",
    "    for key in results.keys():\n",
    "        ground_truth_segments = np.array(results[key]['ground_truth'])\n",
    "        candidate_segments = np.array(results[key]['predict'])\n",
    "        recall_rate, recalled_count, ground_truth_num = derive_recall_rate(ground_truth_segments, candidate_segments, tIoU_thresh)\n",
    "\n",
    "        if print_info: \n",
    "            print(key + '\\t- local recall rate: ' + str(recall_rate) + '\\t(' + str(recalled_count) + '/' + str(ground_truth_num) + ')')\n",
    "\n",
    "        total_recalled_count += recalled_count\n",
    "        total_ground_truth_num += ground_truth_num\n",
    "\n",
    "    total_recall_rate = total_recalled_count / total_ground_truth_num\n",
    "    if print_info: \n",
    "        print\n",
    "        print('Total recall rate: ' + str(total_recall_rate) + '\\t(' + str(total_recalled_count) + '/' + str(total_ground_truth_num) + ')')\n",
    "        print('tIoU_thresh: ' + str(tIoU_thresh))\n",
    "    \n",
    "    return total_recall_rate\n",
    "    \n",
    "results = read_predicted_proposal()\n",
    "tIoU_thresh_values = np.linspace(0.0, 1.0, num=20)\n",
    "\n",
    "total_recall_rates =[]\n",
    "for tIoU_thresh in tIoU_thresh_values:\n",
    "    total_recall_rate = derive_overall_recall_rate(tIoU_thresh, results)\n",
    "    total_recall_rates.append(total_recall_rate)\n",
    "\n",
    "print(tIoU_thresh_values, total_recall_rates)\n"
   ]
  },
  {
   "cell_type": "code",
   "execution_count": 19,
   "metadata": {
    "collapsed": false
   },
   "outputs": [
    {
     "data": {
      "image/png": "[encoded data removed]",
      "text/plain": [
       "<matplotlib.figure.Figure at 0x7fa41db31860>"
      ]
     },
     "metadata": {},
     "output_type": "display_data"
    }
   ],
   "source": [
    "import matplotlib.pyplot as plt\n",
    "\n",
    "fn_size = 14\n",
    "plt.figure(num=None, figsize=(10, 5))\n",
    "plt.plot(tIoU_thresh_values, total_recall_rates, linewidth=4, color=np.array([178,223,138])/255.0)\n",
    "plt.xlabel('Temporal IoU', fontsize=fn_size)\n",
    "plt.ylabel('Recall', fontsize=fn_size)\n",
    "plt.grid(b=True, which=\"both\")\n",
    "plt.setp(plt.axes().get_xticklabels(), fontsize=fn_size)\n",
    "plt.setp(plt.axes().get_yticklabels(), fontsize=fn_size)\n",
    "plt.xlim([0, 0.9])\n",
    "plt.show()"
   ]
  }
 ],
 "metadata": {
  "anaconda-cloud": {},
  "kernelspec": {
   "display_name": "Python [conda root]",
   "language": "python",
   "name": "conda-root-py"
  },
  "language_info": {
   "codemirror_mode": {
    "name": "ipython",
    "version": 3
   },
   "file_extension": ".py",
   "mimetype": "text/x-python",
   "name": "python",
   "nbconvert_exporter": "python",
   "pygments_lexer": "ipython3",
   "version": "3.5.2"
  }
 },
 "nbformat": 4,
 "nbformat_minor": 2
}
