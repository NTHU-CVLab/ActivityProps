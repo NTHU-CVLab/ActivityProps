{
 "cells": [
  {
   "cell_type": "code",
   "execution_count": 33,
   "metadata": {
    "collapsed": true
   },
   "outputs": [],
   "source": [
    "import numpy as np\n"
   ]
  },
  {
   "cell_type": "code",
   "execution_count": 1,
   "metadata": {
    "collapsed": true
   },
   "outputs": [],
   "source": [
    "def segment_iou(target_segment, candidate_segments):\n",
    "    \"\"\"\n",
    "    Compute the temporal intersection over union between a\n",
    "    target segment and all the test segments.\n",
    "    Parameters\n",
    "    ----------\n",
    "    target_segment : 1d array\n",
    "        Temporal target segment containing [starting, ending] times.\n",
    "        \n",
    "    candidate_segments : 2d array\n",
    "        Temporal candidate segments containing N x [starting, ending] times.\n",
    "    \n",
    "    Outputs\n",
    "    -------\n",
    "    tiou : 1d array\n",
    "        Temporal intersection over union score of the N's candidate segments.\n",
    "    \"\"\"\n",
    "    tt1 = np.maximum(target_segment[0], candidate_segments[:, 0])\n",
    "    tt2 = np.minimum(target_segment[1], candidate_segments[:, 1])\n",
    "    # Intersection including Non-negative overlap score.\n",
    "    segments_intersection = (tt2 - tt1).clip(0)\n",
    "    # Segment union.\n",
    "    segments_union = (candidate_segments[:, 1] - candidate_segments[:, 0]) \\\n",
    "      + (target_segment[1] - target_segment[0]) - segments_intersection\n",
    "    # Compute overlap as the ratio of the intersection\n",
    "    # over union of two segments.\n",
    "    tIoU = segments_intersection.astype(float) / segments_union\n",
    "    return tIoU\n"
   ]
  },
  {
   "cell_type": "code",
   "execution_count": 84,
   "metadata": {
    "collapsed": true
   },
   "outputs": [],
   "source": [
    "def derive_recall_rate(ground_truth_segments, candidate_segments, tIoU_thresh):\n",
    "    \"\"\"\n",
    "    Compute the recall rate of the target video\n",
    "    Parameters\n",
    "    ----------\n",
    "    ground_truth_segments : 2d array\n",
    "        Temporal target segment containing M x [starting, ending] times.\n",
    "        \n",
    "    candidate_segments : 2d array\n",
    "        Temporal candidate segments containing N x [starting, ending] times.\n",
    "    \n",
    "    Outputs\n",
    "    -------\n",
    "    recall_rate\n",
    "    \"\"\"\n",
    "    ground_truth_num = ground_truth_segments.shape[0]\n",
    "    recalled_count = 0.0\n",
    "    for ground_truth_segment in ground_truth_segments:\n",
    "        tIoU = segment_iou(ground_truth_segment, candidate_segments)\n",
    "        sorted_tIoU = np.sort(tIoU)\n",
    "        highest_detection_score = sorted_tIoU[-1]\n",
    "        if highest_detection_score >= tIoU_thresh:\n",
    "            recalled_count += 1\n",
    "            \n",
    "    recall_rate = recalled_count / ground_truth_num\n",
    "    return recall_rate, recalled_count, ground_truth_num\n",
    "        "
   ]
  },
  {
   "cell_type": "code",
   "execution_count": 85,
   "metadata": {
    "collapsed": false
   },
   "outputs": [
    {
     "name": "stdout",
     "output_type": "stream",
     "text": [
      "0.5\n",
      "1.0\n",
      "2\n"
     ]
    }
   ],
   "source": [
    "candidate_segments = np.array([[2, 5], [16, 17]])\n",
    "ground_truth_segments = np.array([[1, 10], [15, 20]])\n",
    "\n",
    "tIoU_thresh = 0.3\n",
    "recall_rate, recalled_count, ground_truth_num = derive_recall_rate(ground_truth_segments, candidate_segments, tIoU_thresh)\n",
    "print(recall_rate)\n",
    "print(recalled_count)\n",
    "print(ground_truth_num)\n"
   ]
  }
 ],
 "metadata": {
  "kernelspec": {
   "display_name": "Python 2",
   "language": "python",
   "name": "python2"
  },
  "language_info": {
   "codemirror_mode": {
    "name": "ipython",
    "version": 2
   },
   "file_extension": ".py",
   "mimetype": "text/x-python",
   "name": "python",
   "nbconvert_exporter": "python",
   "pygments_lexer": "ipython2",
   "version": "2.7.12"
  }
 },
 "nbformat": 4,
 "nbformat_minor": 2
}
